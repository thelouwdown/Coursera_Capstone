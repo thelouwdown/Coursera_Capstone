{
    "cells": [
        {
            "cell_type": "markdown",
            "metadata": {
                "collapsed": true
            },
            "source": "# IBM Capstone: Week 4 "
        },
        {
            "cell_type": "markdown",
            "metadata": {},
            "source": "## This document aims to provide the below:\n* 1: A description of the problem and a discussion of the background.\n* 2: A description of the data and how it will be used to solve the problem."
        },
        {
            "cell_type": "markdown",
            "metadata": {},
            "source": "### 1: Problem Description and Background"
        },
        {
            "cell_type": "markdown",
            "metadata": {},
            "source": "Before COVID-19 threw all other business strategies or plans into complete disarray, Europe was still getting to grips on how Brexit was going to affect the region.\n\nNow that Britain has chosen to leave the EU, many businesses will relocate their head offices outside of London, the world's former financial centre. With this relocation, hundreds of thousands (if not millions) of people will have to uplift their lives and move to another city.\n\nBased on this [forbes article](https://fortune.com/longform/brexit-amsterdam-the-new-london-europe-companies/) Amsterdam could be the 'new London'. If employees are forced to move from the one city to the other, the big question is: which neighborhoods should these soon-to-be ex-Londoners choose to move to in Amsterdam?\n\nBased on Foursquare data, I aim to cluster Amsterdam and London neighborhoods based on similarity. So if you love your neighborhood in London and want something similar in Amsterdam, this is your go-to guide."
        },
        {
            "cell_type": "markdown",
            "metadata": {},
            "source": "### 2: A description of the data and how it will be used to solve the problem."
        },
        {
            "cell_type": "markdown",
            "metadata": {},
            "source": "The data I will be using is from accessing the Foursquare API. I will be exploring nighborhoods in London and Amsterdam, using the **explore** function to get the most common venue categories in each neighborhood in the two cities, and then use this feature to group the neighborhoods into clusters. \n\n\nI will use the geopy library to get the latitude and longitude values of London and Amsterdam, then use an unsupervised machine learning clustering algorithm, *k*-means, to do the custering. Lastly, I will use the Folium library to visualize the neighborhoods in Amsterdam and London and their emerging clusters."
        },
        {
            "cell_type": "code",
            "execution_count": null,
            "metadata": {},
            "outputs": [],
            "source": "# The code was removed by Watson Studio for sharing."
        },
        {
            "cell_type": "code",
            "execution_count": null,
            "metadata": {},
            "outputs": [],
            "source": ""
        },
        {
            "cell_type": "code",
            "execution_count": null,
            "metadata": {},
            "outputs": [],
            "source": ""
        },
        {
            "cell_type": "markdown",
            "metadata": {},
            "source": "### 2: Data Description"
        },
        {
            "cell_type": "code",
            "execution_count": null,
            "metadata": {},
            "outputs": [],
            "source": ""
        }
    ],
    "metadata": {
        "kernelspec": {
            "display_name": "Python 3.6",
            "language": "python",
            "name": "python3"
        },
        "language_info": {
            "codemirror_mode": {
                "name": "ipython",
                "version": 3
            },
            "file_extension": ".py",
            "mimetype": "text/x-python",
            "name": "python",
            "nbconvert_exporter": "python",
            "pygments_lexer": "ipython3",
            "version": "3.6.9"
        }
    },
    "nbformat": 4,
    "nbformat_minor": 1
}